{
 "cells": [
  {
   "cell_type": "code",
   "execution_count": 1,
   "metadata": {
    "collapsed": true,
    "id": "SvozAkywppIq",
    "executionInfo": {
     "status": "ok",
     "timestamp": 1667483078082,
     "user_tz": 180,
     "elapsed": 2071,
     "user": {
      "displayName": "Rogério Grossi",
      "userId": "18078823985630623735"
     }
    }
   },
   "outputs": [],
   "source": [
    "import tensorflow as tf\n",
    "import numpy as np\n",
    "import matplotlib.pyplot as plt\n",
    "import os\n",
    "import PIL\n",
    "import time\n",
    "from IPython import display"
   ]
  },
  {
   "cell_type": "code",
   "execution_count": 2,
   "outputs": [
    {
     "output_type": "stream",
     "name": "stdout",
     "text": [
      "Downloading data from https://storage.googleapis.com/tensorflow/tf-keras-datasets/train-labels-idx1-ubyte.gz\n",
      "29515/29515 [==============================] - 0s 0us/step\n",
      "Downloading data from https://storage.googleapis.com/tensorflow/tf-keras-datasets/train-images-idx3-ubyte.gz\n",
      "26421880/26421880 [==============================] - 2s 0us/step\n",
      "Downloading data from https://storage.googleapis.com/tensorflow/tf-keras-datasets/t10k-labels-idx1-ubyte.gz\n",
      "5148/5148 [==============================] - 0s 0us/step\n",
      "Downloading data from https://storage.googleapis.com/tensorflow/tf-keras-datasets/t10k-images-idx3-ubyte.gz\n",
      "4422102/4422102 [==============================] - 0s 0us/step\n"
     ]
    }
   ],
   "source": [
    "(train_images, train_labels), (_,_) = tf.keras.datasets.fashion_mnist.load_data()"
   ],
   "metadata": {
    "colab": {
     "base_uri": "https://localhost:8080/"
    },
    "id": "2NH_P0dOppIt",
    "executionInfo": {
     "status": "ok",
     "timestamp": 1667483083588,
     "user_tz": 180,
     "elapsed": 5520,
     "user": {
      "displayName": "Rogério Grossi",
      "userId": "18078823985630623735"
     }
    },
    "outputId": "54ce4609-16de-4973-8401-b224f108fb3e"
   }
  },
  {
   "cell_type": "code",
   "execution_count": 3,
   "outputs": [
    {
     "output_type": "execute_result",
     "data": {
      "text/plain": [
       "(60000, 28, 28)"
      ]
     },
     "metadata": {},
     "execution_count": 3
    }
   ],
   "source": [
    "train_images.shape"
   ],
   "metadata": {
    "colab": {
     "base_uri": "https://localhost:8080/"
    },
    "id": "JPLJHruYppIt",
    "executionInfo": {
     "status": "ok",
     "timestamp": 1667483083588,
     "user_tz": 180,
     "elapsed": 4,
     "user": {
      "displayName": "Rogério Grossi",
      "userId": "18078823985630623735"
     }
    },
    "outputId": "6ae679c9-1b7a-476b-fae2-41d4e3c7be53"
   }
  },
  {
   "cell_type": "code",
   "execution_count": 4,
   "outputs": [],
   "source": [
    "train_images = train_images.reshape(train_images.shape[0], 28, 28, 1).astype('float32')"
   ],
   "metadata": {
    "id": "rsRZVEJrppIu",
    "executionInfo": {
     "status": "ok",
     "timestamp": 1667483084413,
     "user_tz": 180,
     "elapsed": 827,
     "user": {
      "displayName": "Rogério Grossi",
      "userId": "18078823985630623735"
     }
    }
   }
  },
  {
   "cell_type": "code",
   "execution_count": 5,
   "outputs": [],
   "source": [
    "train_images = (train_images - 127.5)/127.5"
   ],
   "metadata": {
    "id": "GI8boOv-ppIu",
    "executionInfo": {
     "status": "ok",
     "timestamp": 1667483084413,
     "user_tz": 180,
     "elapsed": 2,
     "user": {
      "displayName": "Rogério Grossi",
      "userId": "18078823985630623735"
     }
    }
   }
  },
  {
   "cell_type": "code",
   "execution_count": 6,
   "outputs": [],
   "source": [
    "buffer_size = 60000\n",
    "batch_size = 256"
   ],
   "metadata": {
    "id": "XTdSKKQGppIv",
    "executionInfo": {
     "status": "ok",
     "timestamp": 1667483086566,
     "user_tz": 180,
     "elapsed": 2155,
     "user": {
      "displayName": "Rogério Grossi",
      "userId": "18078823985630623735"
     }
    }
   }
  },
  {
   "cell_type": "code",
   "execution_count": 7,
   "outputs": [],
   "source": [
    "train_set = tf.data.Dataset.from_tensor_slices(train_images).shuffle(buffer_size).batch(batch_size)"
   ],
   "metadata": {
    "id": "33xvWV7dppIv",
    "executionInfo": {
     "status": "ok",
     "timestamp": 1667483087045,
     "user_tz": 180,
     "elapsed": 3,
     "user": {
      "displayName": "Rogério Grossi",
      "userId": "18078823985630623735"
     }
    }
   }
  },
  {
   "cell_type": "code",
   "execution_count": 8,
   "outputs": [
    {
     "output_type": "execute_result",
     "data": {
      "text/plain": [
       "<matplotlib.image.AxesImage at 0x7fbdf00953d0>"
      ]
     },
     "metadata": {},
     "execution_count": 8
    },
    {
     "output_type": "display_data",
     "data": {
      "text/plain": [
       "<Figure size 432x288 with 1 Axes>"
      ],
      "image/png": "[encoded data removed]"
     },
     "metadata": {
      "needs_background": "light"
     }
    }
   ],
   "source": [
    "plt.imshow(train_images[112].reshape((28,28)), cmap= 'gray')"
   ],
   "metadata": {
    "colab": {
     "base_uri": "https://localhost:8080/",
     "height": 282
    },
    "id": "Q4CAly5eppIv",
    "executionInfo": {
     "status": "ok",
     "timestamp": 1667483087872,
     "user_tz": 180,
     "elapsed": 829,
     "user": {
      "displayName": "Rogério Grossi",
      "userId": "18078823985630623735"
     }
    },
    "outputId": "790828a3-8109-46c1-9c88-0c77f674771e"
   }
  },
  {
   "cell_type": "code",
   "execution_count": 9,
   "outputs": [],
   "source": [
    "def make_model():\n",
    "    model = tf.keras.Sequential()\n",
    "    model.add(tf.keras.layers.Dense(7*7*256, input_shape=(100,), use_bias=False))\n",
    "    model.add(tf.keras.layers.BatchNormalization())\n",
    "    model.add(tf.keras.layers.LeakyReLU())\n",
    "    model.add(tf.keras.layers.Reshape((7,7,256)))\n",
    "\n",
    "    model.add(tf.keras.layers.Conv2DTranspose(128, (5,5),strides=(1,1), padding='same', use_bias=False))\n",
    "    model.add(tf.keras.layers.BatchNormalization())\n",
    "    model.add(tf.keras.layers.LeakyReLU())\n",
    "\n",
    "    model.add(tf.keras.layers.Conv2DTranspose(64, (5,5),strides=(2,2), padding='same', use_bias=False))\n",
    "    model.add(tf.keras.layers.BatchNormalization())\n",
    "    model.add(tf.keras.layers.LeakyReLU())\n",
    "\n",
    "    model.add(tf.keras.layers.Conv2DTranspose(1, (5,5),strides=(2,2), padding='same', use_bias=False, activation= 'tanh'))\n",
    "\n",
    "    model.summary()\n",
    "    return model"
   ],
   "metadata": {
    "id": "-FgF2ShmppIw",
    "executionInfo": {
     "status": "ok",
     "timestamp": 1667483087873,
     "user_tz": 180,
     "elapsed": 11,
     "user": {
      "displayName": "Rogério Grossi",
      "userId": "18078823985630623735"
     }
    }
   }
  },
  {
   "cell_type": "code",
   "execution_count": 10,
   "outputs": [],
   "source": [
    "noise = tf.random.normal([1,100])"
   ],
   "metadata": {
    "id": "kM4nsiRVppIw",
    "executionInfo": {
     "status": "ok",
     "timestamp": 1667483087873,
     "user_tz": 180,
     "elapsed": 10,
     "user": {
      "displayName": "Rogério Grossi",
      "userId": "18078823985630623735"
     }
    }
   }
  },
  {
   "cell_type": "code",
   "execution_count": 11,
   "outputs": [
    {
     "output_type": "stream",
     "name": "stdout",
     "text": [
      "Model: \"sequential\"\n",
      "_________________________________________________________________\n",
      " Layer (type)                Output Shape              Param #   \n",
      "=================================================================\n",
      " dense (Dense)               (None, 12544)             1254400   \n",
      "                                                                 \n",
      " batch_normalization (BatchN  (None, 12544)            50176     \n",
      " ormalization)                                                   \n",
      "                                                                 \n",
      " leaky_re_lu (LeakyReLU)     (None, 12544)             0         \n",
      "                                                                 \n",
      " reshape (Reshape)           (None, 7, 7, 256)         0         \n",
      "                                                                 \n",
      " conv2d_transpose (Conv2DTra  (None, 7, 7, 128)        819200    \n",
      " nspose)                                                         \n",
      "                                                                 \n",
      " batch_normalization_1 (Batc  (None, 7, 7, 128)        512       \n",
      " hNormalization)                                                 \n",
      "                                                                 \n",
      " leaky_re_lu_1 (LeakyReLU)   (None, 7, 7, 128)         0         \n",
      "                                                                 \n",
      " conv2d_transpose_1 (Conv2DT  (None, 14, 14, 64)       204800    \n",
      " ranspose)                                                       \n",
      "                                                                 \n",
      " batch_normalization_2 (Batc  (None, 14, 14, 64)       256       \n",
      " hNormalization)                                                 \n",
      "                                                                 \n",
      " leaky_re_lu_2 (LeakyReLU)   (None, 14, 14, 64)        0         \n",
      "                                                                 \n",
      " conv2d_transpose_2 (Conv2DT  (None, 28, 28, 1)        1600      \n",
      " ranspose)                                                       \n",
      "                                                                 \n",
      "=================================================================\n",
      "Total params: 2,330,944\n",
      "Trainable params: 2,305,472\n",
      "Non-trainable params: 25,472\n",
      "_________________________________________________________________\n"
     ]
    }
   ],
   "source": [
    "generator = make_model()"
   ],
   "metadata": {
    "colab": {
     "base_uri": "https://localhost:8080/"
    },
    "id": "E_5RXjJpppIw",
    "executionInfo": {
     "status": "ok",
     "timestamp": 1667483087873,
     "user_tz": 180,
     "elapsed": 10,
     "user": {
      "displayName": "Rogério Grossi",
      "userId": "18078823985630623735"
     }
    },
    "outputId": "57de37d1-9486-4bb3-ed27-13737b2521fe"
   }
  },
  {
   "cell_type": "code",
   "execution_count": 12,
   "outputs": [],
   "source": [
    "img_generated = generator(noise, training = False)"
   ],
   "metadata": {
    "pycharm": {
     "is_executing": true
    },
    "id": "L6yr73ATppIx",
    "executionInfo": {
     "status": "ok",
     "timestamp": 1667483098442,
     "user_tz": 180,
     "elapsed": 10574,
     "user": {
      "displayName": "Rogério Grossi",
      "userId": "18078823985630623735"
     }
    }
   }
  },
  {
   "cell_type": "code",
   "execution_count": 13,
   "outputs": [
    {
     "output_type": "execute_result",
     "data": {
      "text/plain": [
       "<matplotlib.image.AxesImage at 0x7fbda2047890>"
      ]
     },
     "metadata": {},
     "execution_count": 13
    },
    {
     "output_type": "display_data",
     "data": {
      "text/plain": [
       "<Figure size 432x288 with 1 Axes>"
      ],
      "image/png": "[encoded data removed]"
     },
     "metadata": {
      "needs_background": "light"
     }
    }
   ],
   "source": [
    "plt.imshow(img_generated[0,:,:,0], cmap='gray')"
   ],
   "metadata": {
    "colab": {
     "base_uri": "https://localhost:8080/",
     "height": 282
    },
    "id": "h9O1Ye9uppIx",
    "executionInfo": {
     "status": "ok",
     "timestamp": 1667483098442,
     "user_tz": 180,
     "elapsed": 8,
     "user": {
      "displayName": "Rogério Grossi",
      "userId": "18078823985630623735"
     }
    },
    "outputId": "42749001-557e-4950-8941-5ec8ee69d329"
   }
  },
  {
   "cell_type": "code",
   "source": [
    "def make_discriminator():\n",
    "  model = tf.keras.Sequential()\n",
    "\n",
    "  model.add(tf.keras.layers.Conv2D(64, (5,5), strides = (2,2), padding = 'same', input_shape = [28,28,1]))\n",
    "  model.add(tf.keras.layers.LeakyReLU())\n",
    "  model.add(tf.keras.layers.Dropout(0.3))\n",
    "\n",
    "  model.add(tf.keras.layers.Conv2D(128, (5,5), strides = (2,2), padding = 'same'))\n",
    "  model.add(tf.keras.layers.LeakyReLU())\n",
    "  model.add(tf.keras.layers.Dropout(0.3))\n",
    "\n",
    "  model.add(tf.keras.layers.Flatten())\n",
    "  model.add(tf.keras.layers.Dense(1))\n",
    "\n",
    "  return model"
   ],
   "metadata": {
    "id": "dY-TQof6p0ET",
    "executionInfo": {
     "status": "ok",
     "timestamp": 1667483098443,
     "user_tz": 180,
     "elapsed": 6,
     "user": {
      "displayName": "Rogério Grossi",
      "userId": "18078823985630623735"
     }
    }
   },
   "execution_count": 14,
   "outputs": []
  },
  {
   "cell_type": "code",
   "source": [
    "discriminator = make_discriminator()"
   ],
   "metadata": {
    "id": "1vMX8plAsGqF",
    "executionInfo": {
     "status": "ok",
     "timestamp": 1667483099602,
     "user_tz": 180,
     "elapsed": 1165,
     "user": {
      "displayName": "Rogério Grossi",
      "userId": "18078823985630623735"
     }
    }
   },
   "execution_count": 15,
   "outputs": []
  },
  {
   "cell_type": "code",
   "source": [
    "decision = discriminator(img_generated, training = False)\n",
    "decision"
   ],
   "metadata": {
    "colab": {
     "base_uri": "https://localhost:8080/"
    },
    "id": "wv-iWqkusTTC",
    "executionInfo": {
     "status": "ok",
     "timestamp": 1667483099602,
     "user_tz": 180,
     "elapsed": 6,
     "user": {
      "displayName": "Rogério Grossi",
      "userId": "18078823985630623735"
     }
    },
    "outputId": "07c9f740-5a0c-4358-e703-3083a1879b70"
   },
   "execution_count": 16,
   "outputs": [
    {
     "output_type": "execute_result",
     "data": {
      "text/plain": [
       "<tf.Tensor: shape=(1, 1), dtype=float32, numpy=array([[-0.00329038]], dtype=float32)>"
      ]
     },
     "metadata": {},
     "execution_count": 16
    }
   ]
  },
  {
   "cell_type": "code",
   "source": [
    "crossentropy = tf.keras.losses.BinaryCrossentropy(from_logits= True)"
   ],
   "metadata": {
    "id": "WcsCWgyStBan",
    "executionInfo": {
     "status": "ok",
     "timestamp": 1667483099602,
     "user_tz": 180,
     "elapsed": 3,
     "user": {
      "displayName": "Rogério Grossi",
      "userId": "18078823985630623735"
     }
    }
   },
   "execution_count": 17,
   "outputs": []
  },
  {
   "cell_type": "code",
   "source": [
    "def discriminator_loss(real_output, fake_output):\n",
    "  #real_loss = crossentropy()\n",
    "  real_loss = crossentropy(tf.ones_like(real_output), real_output)\n",
    "  fake_loss = crossentropy(tf.zeros_like(fake_output), fake_output)\n",
    "\n",
    "  total_loss = real_loss + fake_loss\n",
    "\n",
    "  return total_loss\n"
   ],
   "metadata": {
    "id": "X7SMIzdZtkgO",
    "executionInfo": {
     "status": "ok",
     "timestamp": 1667483099602,
     "user_tz": 180,
     "elapsed": 3,
     "user": {
      "displayName": "Rogério Grossi",
      "userId": "18078823985630623735"
     }
    }
   },
   "execution_count": 18,
   "outputs": []
  },
  {
   "cell_type": "code",
   "source": [
    "def generator_loss(fake_output):\n",
    "  return crossentropy(tf.ones_like(fake_output), fake_output)"
   ],
   "metadata": {
    "id": "ZQ2TORd4KCHS",
    "executionInfo": {
     "status": "ok",
     "timestamp": 1667483110098,
     "user_tz": 180,
     "elapsed": 454,
     "user": {
      "displayName": "Rogério Grossi",
      "userId": "18078823985630623735"
     }
    }
   },
   "execution_count": 19,
   "outputs": []
  },
  {
   "cell_type": "code",
   "source": [
    "generator_optimizer = tf.keras.optimizers.Adam(learning_rate= 1e-4)\n",
    "discriminator_optimizer = tf.keras.optimizers.Adam(learning_rate= 1e-4)"
   ],
   "metadata": {
    "id": "3_1MJit8Kvdc"
   },
   "execution_count": null,
   "outputs": []
  },
  {
   "cell_type": "code",
   "source": [
    "checkpoint_dir = './training_checkpoints'\n",
    "checkpoint_prefix = os.path.join(checkpoint_dir,'ckpt')\n",
    "checkpoint = tf.train.Checkpoint(generator_optimizer = generator_optimizer,\n",
    "                                 discriminator_optimizer = discriminator_optimizer,\n",
    "                                 generator = generator,\n",
    "                                 discriminator = discriminator\n",
    "                                 )"
   ],
   "metadata": {
    "id": "YzmFdEijLqVZ"
   },
   "execution_count": null,
   "outputs": []
  },
  {
   "cell_type": "code",
   "source": [
    "epochs = 100\n",
    "noise_dim = 100\n",
    "num_samples_to_generate = 16"
   ],
   "metadata": {
    "id": "gKEC9bRAM21a"
   },
   "execution_count": null,
   "outputs": []
  },
  {
   "cell_type": "code",
   "source": [
    "seed = tf.random.normal([num_samples_to_generate, noise_dim])"
   ],
   "metadata": {
    "id": "qgugCnnrNNCQ"
   },
   "execution_count": null,
   "outputs": []
  },
  {
   "cell_type": "code",
   "source": [
    "@tf.function\n",
    "def train_steps(images):\n",
    "  noise = tf.random.normal([batch_size,noise_dim])\n",
    "\n",
    "  with tf.GradientTape() as gen_tape, tf.GradientTape() as disc_tape:\n",
    "    generated_im = generator(noise, training = True)\n",
    "\n",
    "    real_output = discriminator(images, training = True)\n",
    "    fake_output = discriminator(generated_im, training = True)\n",
    "\n",
    "    gen_loss = generator_loss(fake_output)\n",
    "    disc_loss = discriminator_loss(real_output, fake_output)\n",
    "\n",
    "  gradients_of_generator = gen_tape.gradient(gen_loss, generator.trainable_variables)\n",
    "  gradients_of_discriminator = disc_tape.gradient(disc_loss, discriminator.trainable_variables)\n",
    "\n",
    "  generator_optimizer.apply_gradients(zip(gradients_of_generator, generator.trainable_variables))\n",
    "  discriminator_optimizer.apply_gradients(zip(gradients_of_discriminator, discriminator.trainable_variables))\n"
   ],
   "metadata": {
    "id": "JWJY1XoENdE8"
   },
   "execution_count": null,
   "outputs": []
  },
  {
   "cell_type": "code",
   "source": [
    "def generate_and_save_images(model, epoch, test_input):\n",
    "  predictions = model(test_input, training = False)\n",
    "  fig = plt.figure(figsize = (10,10))\n",
    "\n",
    "  for i in range(predictions.shape[0]):\n",
    "    plt.subplot(4,4,i+1)\n",
    "    plt.imshow(predictions[i,:,:,0]*127.5 + 127.5, cmap ='gray')\n",
    "    plt.axis('off')\n",
    "  plt.savefig(f'image_at_epoch{epoch:04d}.png')\n",
    "  plt.show()"
   ],
   "metadata": {
    "id": "lidAEG45TOf-"
   },
   "execution_count": null,
   "outputs": []
  },
  {
   "cell_type": "code",
   "source": [
    "def train(dataset, epochs):\n",
    "  for epoch in range(epochs):\n",
    "    start = time.time()\n",
    "\n",
    "    for image_batch in dataset:\n",
    "      train_steps(image_batch)\n",
    "\n",
    "    display.clear_output(wait = True)\n",
    "    generate_and_save_images(generator, epoch+1, seed)\n",
    "\n",
    "    if (epochs+1) % 15 ==0:\n",
    "      checkpoint.save(file_prefix=checkpoint_prefix)\n",
    "    print(f'Epoch: {epoch}, Time: {(time.time() - start):.3f} s')\n",
    "\n",
    "  display.clear_output(wait = True)\n",
    "  generate_and_save_images(generator, epoch+1, seed)"
   ],
   "metadata": {
    "id": "i0ISbhZHRPr7"
   },
   "execution_count": null,
   "outputs": []
  },
  {
   "cell_type": "code",
   "source": [
    "train(train_set, epochs)"
   ],
   "metadata": {
    "colab": {
     "base_uri": "https://localhost:8080/",
     "height": 575
    },
    "id": "cDMHRwc0VGbm",
    "executionInfo": {
     "status": "ok",
     "timestamp": 1667327763226,
     "user_tz": 180,
     "elapsed": 1461478,
     "user": {
      "displayName": "Rogério Grossi",
      "userId": "18078823985630623735"
     }
    },
    "outputId": "4f6a6ca0-908e-4df5-e894-81b3f0baa9e8"
   },
   "execution_count": null,
   "outputs": [
    {
     "output_type": "display_data",
     "data": {
      "text/plain": [
       "<Figure size 720x720 with 16 Axes>"
      ],
      "image/png": "[encoded data removed]"
     },
     "metadata": {
      "needs_background": "light"
     }
    }
   ]
  },
  {
   "cell_type": "code",
   "source": [],
   "metadata": {
    "id": "e5iw4UKpWJxt"
   },
   "execution_count": null,
   "outputs": []
  }
 ],
 "metadata": {
  "kernelspec": {
   "display_name": "Python 3",
   "language": "python",
   "name": "python3"
  },
  "language_info": {
   "codemirror_mode": {
    "name": "ipython",
    "version": 2
   },
   "file_extension": ".py",
   "mimetype": "text/x-python",
   "name": "python",
   "nbconvert_exporter": "python",
   "pygments_lexer": "ipython2",
   "version": "2.7.6"
  },
  "colab": {
   "provenance": []
  },
  "accelerator": "GPU",
  "gpuClass": "standard"
 },
 "nbformat": 4,
 "nbformat_minor": 0
}
